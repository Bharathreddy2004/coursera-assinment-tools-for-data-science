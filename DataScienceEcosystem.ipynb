{
 "cells": [
  {
   "cell_type": "markdown",
   "id": "f1490d86-d2f0-446e-b2b1-4475b6d7504d",
   "metadata": {},
   "source": [
    "\n",
    "# Data Science Tools and Ecosystem"
   ]
  },
  {
   "cell_type": "markdown",
   "id": "3b81cb3b-fc99-4733-b9dd-b8e82eb2fb2e",
   "metadata": {},
   "source": [
    "In this notebook, Data Science Tools and Ecosystem are summarized."
   ]
  },
  {
   "cell_type": "markdown",
   "id": "7b783a62-e6b4-4111-acf1-eed4bd9c3b16",
   "metadata": {},
   "source": [
    "**Objectives:**\n",
    "- Using Markdown for ordering tools, languages within Jupyter Notebooks.\n",
    "- Understanding the basics of arithmetic expressions in Python.\n",
    "- Providing examples of popular programming environments used in Data Science.\n",
    "- Conversion from minutes to hours"
   ]
  },
  {
   "cell_type": "markdown",
   "id": "0106ee31-cd68-4220-8a4f-6f3dce6b382e",
   "metadata": {},
   "source": [
    "Some of the popular languages that Data Scientists use are:\n",
    "1. Python \n",
    "2. R \n",
    "3. Julia\n",
    "4. SQL"
   ]
  },
  {
   "cell_type": "markdown",
   "id": "dcd9a4f3-ebf1-4b23-908e-7aa4e376a07c",
   "metadata": {},
   "source": [
    "Some of the commonly used libraries used by Data Scientists include:\n",
    "1. Pandas \n",
    "2. SciPy \n",
    "3. NumPy \n",
    "4. Tensorflow"
   ]
  },
  {
   "cell_type": "markdown",
   "id": "542f4d70-4d1f-4555-b155-d248cb654ecf",
   "metadata": {
    "tags": []
   },
   "source": [
    "| Data Science Tools |\n",
    "|-----------------|\n",
    "|Apache Spark|\n",
    "|RStudio|\n",
    "|Apache Hadoop|"
   ]
  },
  {
   "cell_type": "markdown",
   "id": "b84d69d5-cd91-4bbd-b013-da30f9150743",
   "metadata": {},
   "source": [
    "### Below are a few examples of evaluating arithmetic expressions in Python."
   ]
  },
  {
   "cell_type": "code",
   "execution_count": 2,
   "id": "f9858bfd-b5da-4cbb-b8dd-ed151635efee",
   "metadata": {
    "tags": []
   },
   "outputs": [
    {
     "data": {
      "text/plain": [
       "17"
      ]
     },
     "execution_count": 2,
     "metadata": {},
     "output_type": "execute_result"
    }
   ],
   "source": [
    "# This a simple arithmetic expression to mutiply then add integers.\n",
    "(3*4)+5"
   ]
  },
  {
   "cell_type": "code",
   "execution_count": 3,
   "id": "33a26ce0-a288-44b6-87c1-460fbb14ec7f",
   "metadata": {
    "tags": []
   },
   "outputs": [
    {
     "data": {
      "text/plain": [
       "3.3333333333333335"
      ]
     },
     "execution_count": 3,
     "metadata": {},
     "output_type": "execute_result"
    }
   ],
   "source": [
    "# This will convert 200 minutes to hours by diving by 60.\n",
    "200/60"
   ]
  },
  {
   "cell_type": "markdown",
   "id": "79d5340a-871d-436e-8904-0cf8cec153ca",
   "metadata": {},
   "source": [
    "## Author\n",
    "BHARATH "
   ]
  },
  {
   "cell_type": "code",
   "execution_count": null,
   "id": "67e476b3-5c10-4ae4-9233-a53fd2973a0b",
   "metadata": {},
   "outputs": [],
   "source": []
  }
 ],
 "metadata": {
  "kernelspec": {
   "display_name": "Python",
   "language": "python",
   "name": "conda-env-python-py"
  },
  "language_info": {
   "codemirror_mode": {
    "name": "ipython",
    "version": 3
   },
   "file_extension": ".py",
   "mimetype": "text/x-python",
   "name": "python",
   "nbconvert_exporter": "python",
   "pygments_lexer": "ipython3",
   "version": "3.7.12"
  }
 },
 "nbformat": 4,
 "nbformat_minor": 5
}
